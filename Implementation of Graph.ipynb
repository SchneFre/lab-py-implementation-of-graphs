{
 "cells": [
  {
   "cell_type": "markdown",
   "metadata": {},
   "source": [
    "# LAB | Implementation of Graphs\n"
   ]
  },
  {
   "cell_type": "markdown",
   "metadata": {},
   "source": [
    "\n",
    "## Overview\n"
   ]
  },
  {
   "cell_type": "markdown",
   "metadata": {},
   "source": [
    "\n",
    "This lesson will cover the implementation of graphs in Python, focusing on two primary representations: adjacency list and adjacency matrix. We will also explore operations such as insertion and deletion of nodes and edges, as well as searching and traversing the graph.\n"
   ]
  },
  {
   "cell_type": "markdown",
   "metadata": {},
   "source": [
    "\n",
    "## Instructions\n"
   ]
  },
  {
   "cell_type": "markdown",
   "metadata": {},
   "source": [
    "\n",
    "- Complete each section by understanding the concepts and implementing the provided code.\n",
    "- Test your code to ensure it behaves as expected.\n"
   ]
  },
  {
   "cell_type": "markdown",
   "metadata": {},
   "source": [
    "\n",
    "## A. Graph Representation Using Adjacency List\n"
   ]
  },
  {
   "cell_type": "markdown",
   "metadata": {},
   "source": [
    "\n",
    "In this section, we will implement a graph using an adjacency list. This representation uses a dictionary where keys are vertices and values are lists of adjacent vertices.\n"
   ]
  },
  {
   "cell_type": "markdown",
   "metadata": {},
   "source": [
    "\n",
    "### Key Concepts\n"
   ]
  },
  {
   "cell_type": "markdown",
   "metadata": {},
   "source": [
    "\n",
    "- **Vertex**: A node in the graph.\n",
    "- **Edge**: A connection between two vertices.\n"
   ]
  },
  {
   "cell_type": "markdown",
   "metadata": {},
   "source": [
    "\n",
    "### Implementation Steps\n",
    "\n",
    "1. Create a class `Graph` that contains a dictionary to represent the adjacency list.\n",
    "2. Implement methods to add and remove vertices and edges.\n"
   ]
  },
  {
   "cell_type": "markdown",
   "metadata": {},
   "source": [
    "### Explanation\n",
    "This cell demonstrates the implementation. Take a moment to check out the code and run the cell to see how it works."
   ]
  },
  {
   "cell_type": "code",
   "execution_count": null,
   "metadata": {},
   "outputs": [],
   "source": [
    "class Graph:\n",
    "    def __init__(self):\n",
    "        self.graph = {}\n",
    "\n",
    "    def add_vertex(self, vertex):\n",
    "        if vertex not in self.graph:\n",
    "            self.graph[vertex] = []\n",
    "\n",
    "    def remove_vertex(self, vertex):\n",
    "        if vertex in self.graph:\n",
    "            del self.graph[vertex]\n",
    "            for v in self.graph:\n",
    "                if vertex in self.graph[v]:\n",
    "                    self.graph[v].remove(vertex)\n",
    "\n",
    "    def add_edge(self, vertex1, vertex2):\n",
    "        if vertex1 in self.graph and vertex2 in self.graph:\n",
    "            self.graph[vertex1].append(vertex2)\n",
    "            self.graph[vertex2].append(vertex1)  # For undirected graph\n",
    "\n",
    "    def remove_edge(self, vertex1, vertex2):\n",
    "        if vertex1 in self.graph and vertex2 in self.graph:\n",
    "            self.graph[vertex1].remove(vertex2)\n",
    "            self.graph[vertex2].remove(vertex1)  # For undirected graph\n"
   ]
  },
  {
   "cell_type": "code",
   "execution_count": 3,
   "metadata": {},
   "outputs": [],
   "source": [
    "# Example usage:\n",
    "g = Graph()\n",
    "g.add_vertex(1)\n",
    "g.add_vertex(2)\n",
    "g.add_edge(1, 2)\n",
    "g.remove_edge(1, 2)"
   ]
  },
  {
   "cell_type": "markdown",
   "metadata": {},
   "source": [
    "### Try It Yourself!\n",
    "Modify the implementation below or try writing your own version based on what you've learned above."
   ]
  },
  {
   "cell_type": "code",
   "execution_count": 29,
   "metadata": {},
   "outputs": [
    {
     "name": "stdout",
     "output_type": "stream",
     "text": [
      "1: []\n",
      "Test1: ['Test2']\n",
      "Test2: ['Test1', 'Test3']\n",
      "Test3: ['Test2']\n",
      "------------------------\n",
      "1: []\n",
      "Test1: []\n",
      "Test3: []\n",
      "------------------------\n",
      "1: [2]\n",
      "2: [1]\n",
      "------------------------\n",
      "1: []\n",
      "2: []\n"
     ]
    }
   ],
   "source": [
    "class Graph:\n",
    "    def __init__(self) -> None:\n",
    "        self.graph = {}\n",
    "\n",
    "    def add_vertex(self, vertex):\n",
    "        # if the vertex doesn't exist:\n",
    "        if vertex not in self.graph:\n",
    "            # create vertex/Node without content\n",
    "            self.graph[vertex]= []\n",
    "\n",
    "    def remove_vertex(self, vertex):\n",
    "        # remove the vertex itsself\n",
    "        del self.graph[vertex]\n",
    "        # remove all edges from other vetices\n",
    "        for v in self.graph:\n",
    "            if vertex in self.graph[v]:\n",
    "                self.graph[v].remove(vertex)\n",
    "\n",
    "    def add_edge(self, vertex1, vertex2):\n",
    "        if vertex1 in self.graph and vertex2 in self.graph:\n",
    "            self.graph[vertex1].append(vertex2)\n",
    "            self.graph[vertex2].append(vertex1)\n",
    "    \n",
    "    def remove_edge(self, vertex1, vertex2):\n",
    "        if vertex1 in self.graph and vertex2 in self.graph:\n",
    "            self.graph[vertex1].remove(vertex2)\n",
    "            self.graph[vertex2].remove(vertex1)\n",
    "\n",
    "    def print_graph(self):\n",
    "        for vertex in self.graph:\n",
    "            print(f\"{vertex}: {self.graph[vertex]}\")\n",
    "        \n",
    "g = Graph()\n",
    "g.add_vertex(1)\n",
    "g.add_vertex(\"adsgf\") \n",
    "g.remove_vertex(\"adsgf\") \n",
    "g.add_vertex(\"Test1\") \n",
    "g.add_vertex(\"Test2\") \n",
    "g.add_vertex(\"Test3\") \n",
    "g.add_edge(\"Test1\", \"Test2\")\n",
    "g.add_edge(\"Test2\", \"Test3\")\n",
    "g.print_graph()\n",
    "print(\"------------------------\")\n",
    "g.remove_vertex(\"Test2\") \n",
    "g.print_graph()\n",
    "g.remove_vertex(\"Test1\") \n",
    "g.remove_vertex(\"Test3\") \n",
    "print(\"------------------------\")\n",
    "g.add_vertex(1)\n",
    "g.add_vertex(2)\n",
    "g.add_edge(1, 2)\n",
    "g.print_graph()\n",
    "print(\"------------------------\")\n",
    "g.remove_edge(1, 2)\n",
    "g.print_graph()"
   ]
  },
  {
   "cell_type": "markdown",
   "metadata": {},
   "source": [
    "\n",
    "## B. Graph Representation Using Adjacency Matrix\n"
   ]
  },
  {
   "cell_type": "markdown",
   "metadata": {},
   "source": [
    "\n",
    "In this section, we will implement a graph using an adjacency matrix. This representation uses a 2D list (matrix) where rows and columns represent vertices.\n"
   ]
  },
  {
   "cell_type": "markdown",
   "metadata": {},
   "source": [
    "\n",
    "### Key Concepts\n",
    "\n",
    "- **Adjacency Matrix**: A square matrix used to represent a finite graph.\n"
   ]
  },
  {
   "cell_type": "markdown",
   "metadata": {},
   "source": [
    "\n",
    "### Implementation Steps\n",
    "\n",
    "1. Create a class `GraphMatrix` that initializes a matrix based on the number of vertices.\n",
    "2. Implement methods to add and remove vertices and edges.\n"
   ]
  },
  {
   "cell_type": "markdown",
   "metadata": {},
   "source": [
    "### Explanation\n",
    "This cell demonstrates the implementation. Take a moment to check out the code and run the cell to see how it works."
   ]
  },
  {
   "cell_type": "code",
   "execution_count": 30,
   "metadata": {},
   "outputs": [],
   "source": [
    "class GraphMatrix:\n",
    "    def __init__(self, size):\n",
    "        self.size = size\n",
    "        self.matrix = [ [0] * size for _ in range(size)]\n",
    "\n",
    "    def add_edge(self, vertex1, vertex2):\n",
    "        if 0 <= vertex1 < self.size and 0 <= vertex2 < self.size:\n",
    "            self.matrix[vertex1][vertex2] = 1\n",
    "            self.matrix[vertex2][vertex1] = 1  # For undirected graph\n",
    "\n",
    "    def remove_edge(self, vertex1, vertex2):\n",
    "        if 0 <= vertex1 < self.size and 0 <= vertex2 < self.size:\n",
    "            self.matrix[vertex1][vertex2] = 0\n",
    "            self.matrix[vertex2][vertex1] = 0  # For undirected graph"
   ]
  },
  {
   "cell_type": "code",
   "execution_count": 31,
   "metadata": {},
   "outputs": [],
   "source": [
    "# Example usage:\n",
    "g_matrix = GraphMatrix(3)\n",
    "g_matrix.add_edge(0, 1)\n",
    "g_matrix.remove_edge(0, 1)"
   ]
  },
  {
   "cell_type": "markdown",
   "metadata": {},
   "source": [
    "### Try It Yourself!\n",
    "Modify the implementation below or try writing your own version based on what you've learned above."
   ]
  },
  {
   "cell_type": "code",
   "execution_count": 38,
   "metadata": {},
   "outputs": [
    {
     "name": "stdout",
     "output_type": "stream",
     "text": [
      "[[0 1 0]\n",
      " [1 0 0]\n",
      " [0 0 0]]\n",
      "------------------------\n",
      "[[0 0 0]\n",
      " [0 0 0]\n",
      " [0 0 0]]\n",
      "------------------------\n"
     ]
    }
   ],
   "source": [
    "import numpy as np\n",
    "\n",
    "class GraphMatrix:\n",
    "    def __init__(self, size) -> None:\n",
    "        self.size = size\n",
    "        self.matrix = np.zeros((size, size), dtype=int)\n",
    "\n",
    "    def add_edge(self, vertex1, vertex2):\n",
    "        # test if vertices are out of bound:\n",
    "        if 0 <= vertex1 < self.size and 0 <= vertex2 <= self.size:            \n",
    "            self.matrix[vertex1][vertex2] = 1\n",
    "            self.matrix[vertex2][vertex1] = 1\n",
    "\n",
    "    def remove_edge(self, vertex1, vertex2):\n",
    "        # test if vertices are out of bound:\n",
    "        if 0 <= vertex1 < self.size and 0 <= vertex2 <= self.size:\n",
    "            self.matrix[vertex1][vertex2] = 0\n",
    "            self.matrix[vertex2][vertex1] = 0\n",
    "\n",
    "    def print_matrix(self):\n",
    "        print(self.matrix)\n",
    "\n",
    "g_matrix = GraphMatrix(3)\n",
    "g_matrix.add_edge(0, 1)\n",
    "g_matrix.print_matrix()\n",
    "print(\"------------------------\")\n",
    "g_matrix.remove_edge(0, 1)\n",
    "g_matrix.print_matrix()\n",
    "print(\"------------------------\")"
   ]
  },
  {
   "cell_type": "markdown",
   "metadata": {},
   "source": [
    "### Operations on Adjacency List\n",
    " "
   ]
  },
  {
   "cell_type": "markdown",
   "metadata": {},
   "source": [
    "### Explanation\n",
    "Below cells demonstrate the implementation. Take a moment to check out the code and run the cells to see how it works."
   ]
  },
  {
   "cell_type": "markdown",
   "metadata": {},
   "source": [
    "\n",
    "#### Add Vertex\n",
    "\n",
    "This operation adds a new vertex to the graph.\n"
   ]
  },
  {
   "cell_type": "code",
   "execution_count": 5,
   "metadata": {},
   "outputs": [],
   "source": [
    "def add_vertex(self, vertex):\n",
    "    if vertex not in self.graph:\n",
    "        self.graph[vertex] = []"
   ]
  },
  {
   "cell_type": "markdown",
   "metadata": {},
   "source": [
    "### Try It Yourself!\n",
    "Modify the implementation below or try writing your own version based on what you've learned above."
   ]
  },
  {
   "cell_type": "code",
   "execution_count": null,
   "metadata": {},
   "outputs": [],
   "source": [
    "class Graph:\n",
    "    def __init__(self) -> None:\n",
    "        self.graph = {}\n",
    "\n",
    "    def add_vertex(self, vertex):\n",
    "        # if the vertex doesn't exist:\n",
    "        if vertex not in self.graph:\n",
    "            # create vertex/Node without content\n",
    "            self.graph[vertex]= []\n",
    "\n",
    "    def print_graph(self):\n",
    "        for vertex in self.graph:\n",
    "            print(f\"{vertex}: {self.graph[vertex]}\")"
   ]
  },
  {
   "cell_type": "markdown",
   "metadata": {},
   "source": [
    "\n",
    "#### Remove Vertex\n",
    "\n",
    "This operation removes a vertex from the graph along with its associated edges.\n"
   ]
  },
  {
   "cell_type": "code",
   "execution_count": 6,
   "metadata": {},
   "outputs": [],
   "source": [
    "def remove_vertex(self, vertex):\n",
    "    if vertex in self.graph:\n",
    "        del self.graph[vertex]\n",
    "        for v in self.graph:\n",
    "            if vertex in self.graph[v]:\n",
    "                self.graph[v].remove(vertex)\n"
   ]
  },
  {
   "cell_type": "markdown",
   "metadata": {},
   "source": [
    "### Try It Yourself!\n",
    "Modify the implementation below or try writing your own version based on what you've learned above."
   ]
  },
  {
   "cell_type": "code",
   "execution_count": null,
   "metadata": {},
   "outputs": [],
   "source": [
    "class Graph:\n",
    "    def __init__(self) -> None:\n",
    "        self.graph = {}\n",
    "\n",
    "    def remove_vertex(self, vertex):\n",
    "        # remove the vertex itsself\n",
    "        del self.graph[vertex]\n",
    "        # remove all edges from other vetices\n",
    "        for v in self.graph:\n",
    "            if vertex in self.graph[v]:\n",
    "                self.graph[v].remove(vertex)   \n",
    "\n",
    "    def print_graph(self):\n",
    "        for vertex in self.graph:\n",
    "            print(f\"{vertex}: {self.graph[vertex]}\")"
   ]
  },
  {
   "cell_type": "markdown",
   "metadata": {},
   "source": [
    "\n",
    "#### Add Edge\n",
    "\n",
    "This operation adds an edge between two vertices.\n"
   ]
  },
  {
   "cell_type": "code",
   "execution_count": 7,
   "metadata": {},
   "outputs": [],
   "source": [
    "def add_edge(self, vertex1, vertex2):\n",
    "    if vertex1 in self.graph and vertex2 in self.graph:\n",
    "        self.graph[vertex1].append(vertex2)\n",
    "        self.graph[vertex2].append(vertex1)  # For undirected graph\n",
    "\n"
   ]
  },
  {
   "cell_type": "markdown",
   "metadata": {},
   "source": [
    "### Try It Yourself!\n",
    "Modify the implementation below or try writing your own version based on what you've learned above."
   ]
  },
  {
   "cell_type": "code",
   "execution_count": null,
   "metadata": {},
   "outputs": [],
   "source": [
    "class Graph:\n",
    "    def __init__(self) -> None:\n",
    "        self.graph = {}\n",
    "\n",
    "    def add_edge(self, vertex1, vertex2):\n",
    "        if vertex1 in self.graph and vertex2 in self.graph:\n",
    "            self.graph[vertex1].append(vertex2)\n",
    "            self.graph[vertex2].append(vertex1)\n",
    "    \n",
    "    def print_graph(self):\n",
    "        for vertex in self.graph:\n",
    "            print(f\"{vertex}: {self.graph[vertex]}\")"
   ]
  },
  {
   "cell_type": "markdown",
   "metadata": {},
   "source": [
    "\n",
    "#### Remove Edge\n",
    "\n",
    "This operation removes an edge between two vertices.\n"
   ]
  },
  {
   "cell_type": "code",
   "execution_count": 8,
   "metadata": {},
   "outputs": [],
   "source": [
    "def remove_edge(self, vertex1, vertex2):\n",
    "    if vertex1 in self.graph and vertex2 in self.graph:\n",
    "        self.graph[vertex1].remove(vertex2)\n",
    "        self.graph[vertex2].remove(vertex1)  # For undirected graph\n",
    "\n"
   ]
  },
  {
   "cell_type": "markdown",
   "metadata": {},
   "source": [
    "### Try It Yourself!\n",
    "Modify the implementation below or try writing your own version based on what you've learned above."
   ]
  },
  {
   "cell_type": "code",
   "execution_count": 40,
   "metadata": {},
   "outputs": [],
   "source": [
    "class Graph:\n",
    "    def __init__(self) -> None:\n",
    "        self.graph = {}\n",
    "\n",
    "    def remove_edge(self, vertex1, vertex2):\n",
    "        if vertex1 in self.graph and vertex2 in self.graph:\n",
    "            self.graph[vertex1].remove(vertex2)\n",
    "            self.graph[vertex2].remove(vertex1)\n",
    "\n",
    "    def print_graph(self):\n",
    "        for vertex in self.graph:\n",
    "            print(f\"{vertex}: {self.graph[vertex]}\")"
   ]
  },
  {
   "cell_type": "markdown",
   "metadata": {},
   "source": [
    "\n",
    "### Example Usage for Adjacency List\n"
   ]
  },
  {
   "cell_type": "code",
   "execution_count": 47,
   "metadata": {},
   "outputs": [
    {
     "name": "stdout",
     "output_type": "stream",
     "text": [
      "1: []\n",
      "2: []\n",
      "-----------------------\n",
      "1: [2]\n",
      "2: [1]\n",
      "-----------------------\n",
      "1: []\n",
      "2: []\n",
      "-----------------------\n",
      "2: []\n"
     ]
    }
   ],
   "source": [
    "class Graph:\n",
    "    def __init__(self) -> None:\n",
    "        self.graph = {}\n",
    "\n",
    "    def add_vertex(self, vertex):\n",
    "        # if the vertex doesn't exist:\n",
    "        if vertex not in self.graph:\n",
    "            # create vertex/Node without content\n",
    "            self.graph[vertex]= []\n",
    "\n",
    "    def remove_vertex(self, vertex):\n",
    "        # remove the vertex itsself\n",
    "        del self.graph[vertex]\n",
    "        # remove all edges from other vetices\n",
    "        for v in self.graph:\n",
    "            if vertex in self.graph[v]:\n",
    "                self.graph[v].remove(vertex)\n",
    "\n",
    "    def add_edge(self, vertex1, vertex2):\n",
    "        if vertex1 in self.graph and vertex2 in self.graph:\n",
    "            self.graph[vertex1].append(vertex2)\n",
    "            self.graph[vertex2].append(vertex1)\n",
    "    \n",
    "    def remove_edge(self, vertex1, vertex2):\n",
    "        if vertex1 in self.graph and vertex2 in self.graph:\n",
    "            self.graph[vertex1].remove(vertex2)\n",
    "            self.graph[vertex2].remove(vertex1)\n",
    "\n",
    "    def print_graph(self):\n",
    "        for vertex in self.graph:\n",
    "            print(f\"{vertex}: {self.graph[vertex]}\")\n",
    "\n",
    "\n",
    "\n",
    "g = Graph()\n",
    "\n",
    "g.add_vertex(1)\n",
    "g.add_vertex(2)\n",
    "g.print_graph()\n",
    "print(\"-----------------------\")\n",
    "g.add_edge(1, 2)\n",
    "g.print_graph()\n",
    "print(\"-----------------------\")\n",
    "g.remove_edge(1, 2)\n",
    "g.print_graph()\n",
    "print(\"-----------------------\")\n",
    "g.remove_vertex(1)\n",
    "g.print_graph()"
   ]
  },
  {
   "cell_type": "markdown",
   "metadata": {},
   "source": [
    "### Operations on Adjacency Matrix\n"
   ]
  },
  {
   "cell_type": "markdown",
   "metadata": {},
   "source": [
    "\n",
    "#### Add Edge\n",
    "\n",
    "This operation adds an edge between two vertices in the adjacency matrix.\n"
   ]
  },
  {
   "cell_type": "code",
   "execution_count": 10,
   "metadata": {},
   "outputs": [],
   "source": [
    "def add_edge(self, vertex1, vertex2):\n",
    "    if 0 <= vertex1 < self.size and 0 <= vertex2 < self.size:\n",
    "        self.matrix[vertex1][vertex2] = 1\n",
    "        self.matrix[vertex2][vertex1] = 1  # For undirected graph"
   ]
  },
  {
   "cell_type": "markdown",
   "metadata": {},
   "source": [
    "### Try It Yourself!\n",
    "Modify the implementation below or try writing your own version based on what you've learned above."
   ]
  },
  {
   "cell_type": "code",
   "execution_count": 48,
   "metadata": {},
   "outputs": [],
   "source": [
    "import numpy as np\n",
    "\n",
    "class GraphMatrix:\n",
    "    def __init__(self, size) -> None:\n",
    "        self.size = size\n",
    "        self.matrix = np.zeros((size, size), dtype=int)\n",
    "\n",
    "    def add_edge(self, vertex1, vertex2):\n",
    "        # test if vertices are out of bound:\n",
    "        if 0 <= vertex1 < self.size and 0 <= vertex2 <= self.size:            \n",
    "            self.matrix[vertex1][vertex2] = 1\n",
    "            self.matrix[vertex2][vertex1] = 1\n",
    "\n",
    "\n",
    "    def print_matrix(self):\n",
    "        print(self.matrix)\n"
   ]
  },
  {
   "cell_type": "markdown",
   "metadata": {},
   "source": [
    "\n",
    "#### Remove Edge\n",
    "\n",
    "This operation removes an edge between two vertices in the adjacency matrix.\n"
   ]
  },
  {
   "cell_type": "code",
   "execution_count": 11,
   "metadata": {},
   "outputs": [],
   "source": [
    "def remove_edge(self, vertex1, vertex2):\n",
    "    if 0 <= vertex1 < self.size and 0 <= vertex2 < self.size:\n",
    "        self.matrix[vertex1][vertex2] = 0\n",
    "        self.matrix[vertex2][vertex1] = 0  # For undirected graph"
   ]
  },
  {
   "cell_type": "markdown",
   "metadata": {},
   "source": [
    "### Try It Yourself!\n",
    "Modify the implementation below or try writing your own version based on what you've learned above."
   ]
  },
  {
   "cell_type": "code",
   "execution_count": null,
   "metadata": {},
   "outputs": [],
   "source": [
    "import numpy as np\n",
    "\n",
    "class GraphMatrix:\n",
    "    def __init__(self, size) -> None:\n",
    "        self.size = size\n",
    "        self.matrix = np.zeros((size, size), dtype=int)\n",
    "\n",
    "    def remove_edge(self, vertex1, vertex2):\n",
    "        # test if vertices are out of bound:\n",
    "        if 0 <= vertex1 < self.size and 0 <= vertex2 <= self.size:\n",
    "            self.matrix[vertex1][vertex2] = 0\n",
    "            self.matrix[vertex2][vertex1] = 0\n",
    "\n",
    "    def print_matrix(self):\n",
    "        print(self.matrix)\n"
   ]
  },
  {
   "cell_type": "markdown",
   "metadata": {},
   "source": [
    "\n",
    "### Example Usage for Adjacency Matrix\n"
   ]
  },
  {
   "cell_type": "code",
   "execution_count": 49,
   "metadata": {},
   "outputs": [],
   "source": [
    "import numpy as np\n",
    "\n",
    "class GraphMatrix:\n",
    "    def __init__(self, size) -> None:\n",
    "        self.size = size\n",
    "        self.matrix = np.zeros((size, size), dtype=int)\n",
    "\n",
    "    def add_edge(self, vertex1, vertex2):\n",
    "        # test if vertices are out of bound:\n",
    "        if 0 <= vertex1 < self.size and 0 <= vertex2 <= self.size:            \n",
    "            self.matrix[vertex1][vertex2] = 1\n",
    "            self.matrix[vertex2][vertex1] = 1\n",
    "\n",
    "    def remove_edge(self, vertex1, vertex2):\n",
    "        # test if vertices are out of bound:\n",
    "        if 0 <= vertex1 < self.size and 0 <= vertex2 <= self.size:\n",
    "            self.matrix[vertex1][vertex2] = 0\n",
    "            self.matrix[vertex2][vertex1] = 0\n",
    "\n",
    "    def print_matrix(self):\n",
    "        print(self.matrix)\n",
    "\n",
    "\n",
    "\n",
    "g_matrix = GraphMatrix(3)\n",
    "g_matrix.add_edge(0, 1)\n",
    "g_matrix.remove_edge(0, 1)"
   ]
  },
  {
   "cell_type": "markdown",
   "metadata": {},
   "source": [
    "\n",
    "## Exercise Completion\n"
   ]
  },
  {
   "cell_type": "markdown",
   "metadata": {},
   "source": [
    "\n",
    "Once you have completed all sections:\n",
    "\n",
    "- Review your implementations.\n",
    "- Ensure your code is well-documented with comments explaining your logic.\n",
    "- Save your notebook for submission or further review.\n"
   ]
  },
  {
   "cell_type": "markdown",
   "metadata": {},
   "source": [
    "\n",
    "Happy coding! Enjoy practicing Graph implementations in Python!\n",
    "\n"
   ]
  }
 ],
 "metadata": {
  "kernelspec": {
   "display_name": "Python 3",
   "language": "python",
   "name": "python3"
  },
  "language_info": {
   "codemirror_mode": {
    "name": "ipython",
    "version": 3
   },
   "file_extension": ".py",
   "mimetype": "text/x-python",
   "name": "python",
   "nbconvert_exporter": "python",
   "pygments_lexer": "ipython3",
   "version": "3.9.13"
  }
 },
 "nbformat": 4,
 "nbformat_minor": 2
}
